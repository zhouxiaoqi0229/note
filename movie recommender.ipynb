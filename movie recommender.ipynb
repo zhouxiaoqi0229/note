{
  "nbformat": 4,
  "nbformat_minor": 0,
  "metadata": {
    "colab": {
      "name": "Untitled4.ipynb",
      "provenance": [],
      "collapsed_sections": [],
      "mount_file_id": "1U9nfyusqdnVjNC3BtvK3a2MWxWd4MciR",
      "authorship_tag": "ABX9TyP6K8z7pgvEjyKgcUKRFSfU",
      "include_colab_link": true
    },
    "kernelspec": {
      "name": "python3",
      "display_name": "Python 3"
    },
    "language_info": {
      "name": "python"
    }
  },
  "cells": [
    {
      "cell_type": "markdown",
      "metadata": {
        "id": "view-in-github",
        "colab_type": "text"
      },
      "source": [
        "<a href=\"https://colab.research.google.com/github/zhouxiaoqi0229/note/blob/main/movie%20recommender.ipynb\" target=\"_parent\"><img src=\"https://colab.research.google.com/assets/colab-badge.svg\" alt=\"Open In Colab\"/></a>"
      ]
    },
    {
      "cell_type": "code",
      "metadata": {
        "colab": {
          "base_uri": "https://localhost:8080/"
        },
        "id": "UYp8dcOWp9X5",
        "outputId": "9d5f8af0-64b1-4a3c-f498-8733f484956b"
      },
      "source": [
        "!pwd\n"
      ],
      "execution_count": null,
      "outputs": [
        {
          "output_type": "stream",
          "text": [
            "/content\n"
          ],
          "name": "stdout"
        }
      ]
    },
    {
      "cell_type": "code",
      "metadata": {
        "id": "9RUGxoDZqECn"
      },
      "source": [
        "import os\n",
        "os.chdir('./drive/MyDrive/Colab Notebooks/movie_recommender')"
      ],
      "execution_count": null,
      "outputs": []
    },
    {
      "cell_type": "code",
      "metadata": {
        "id": "MLjJHmPTq6_w"
      },
      "source": [
        "import pandas as pd\n",
        "from sklearn.model_selection import train_test_split#数据集划分\n",
        "import numpy as np\n",
        "from collections import Counter#用于统计字符出现的次数\n",
        "import tensorflow as tf\n",
        "\n",
        "import pickle #提供保存数据在本地的方法\n",
        "import re #正则表达式\n",
        "from tensorflow.python.ops import math_ops \n",
        "from urllib.request import urlretrieve#将url表示的网络对象复制到本地\n",
        "from os.path import isfile,isdir#判断是否存在文件file 文件夹dir\n",
        "from tqdm import tqdm  #Tqdm 是一个快速，可扩展的Python进度条，可以在 Python 长循环中添加一个进度提示信息，用户只需要封装任意的迭代器 tqdm(iterator)\n",
        "import zipfile #用来做zip格式的压缩与解压缩\n",
        "import hashlib #hash 或者MD5加密\n",
        "\n"
      ],
      "execution_count": null,
      "outputs": []
    },
    {
      "cell_type": "code",
      "metadata": {
        "colab": {
          "base_uri": "https://localhost:8080/"
        },
        "id": "N5dSKsHxhAJ6",
        "outputId": "0eb31579-aa8a-4ccc-c7fc-e1a523ddea1d"
      },
      "source": [
        "#数据查看\n",
        "\n",
        "#用户数据\n",
        "users_title = ['UserID', 'Gender', 'Age', 'OccupationID', 'Zip-code']\n",
        "users = pd.read_csv('./users.dat',sep='::', header=None, names=users_title, engine = 'python')\n",
        "users.info\n",
        "\n"
      ],
      "execution_count": null,
      "outputs": [
        {
          "output_type": "execute_result",
          "data": {
            "text/plain": [
              "<bound method DataFrame.info of       UserID Gender  Age  OccupationID Zip-code\n",
              "0          1      F    1            10    48067\n",
              "1          2      M   56            16    70072\n",
              "2          3      M   25            15    55117\n",
              "3          4      M   45             7    02460\n",
              "4          5      M   25            20    55455\n",
              "...      ...    ...  ...           ...      ...\n",
              "6035    6036      F   25            15    32603\n",
              "6036    6037      F   45             1    76006\n",
              "6037    6038      F   56             1    14706\n",
              "6038    6039      F   45             0    01060\n",
              "6039    6040      M   25             6    11106\n",
              "\n",
              "[6040 rows x 5 columns]>"
            ]
          },
          "metadata": {
            "tags": []
          },
          "execution_count": 77
        }
      ]
    },
    {
      "cell_type": "code",
      "metadata": {
        "colab": {
          "base_uri": "https://localhost:8080/",
          "height": 203
        },
        "id": "ehhfojiqobYl",
        "outputId": "8bcaf545-a4ac-4306-f17d-0ee2015ca13e"
      },
      "source": [
        "#电影数据\n",
        "movies_title = ['MovieID', 'Title', 'Genres']\n",
        "movies = pd.read_csv('./movies.dat', sep='::', header=None, names=movies_title, engine = 'python')\n",
        "movies.head()"
      ],
      "execution_count": null,
      "outputs": [
        {
          "output_type": "execute_result",
          "data": {
            "text/html": [
              "<div>\n",
              "<style scoped>\n",
              "    .dataframe tbody tr th:only-of-type {\n",
              "        vertical-align: middle;\n",
              "    }\n",
              "\n",
              "    .dataframe tbody tr th {\n",
              "        vertical-align: top;\n",
              "    }\n",
              "\n",
              "    .dataframe thead th {\n",
              "        text-align: right;\n",
              "    }\n",
              "</style>\n",
              "<table border=\"1\" class=\"dataframe\">\n",
              "  <thead>\n",
              "    <tr style=\"text-align: right;\">\n",
              "      <th></th>\n",
              "      <th>MovieID</th>\n",
              "      <th>Title</th>\n",
              "      <th>Genres</th>\n",
              "    </tr>\n",
              "  </thead>\n",
              "  <tbody>\n",
              "    <tr>\n",
              "      <th>0</th>\n",
              "      <td>1</td>\n",
              "      <td>Toy Story (1995)</td>\n",
              "      <td>Animation|Children's|Comedy</td>\n",
              "    </tr>\n",
              "    <tr>\n",
              "      <th>1</th>\n",
              "      <td>2</td>\n",
              "      <td>Jumanji (1995)</td>\n",
              "      <td>Adventure|Children's|Fantasy</td>\n",
              "    </tr>\n",
              "    <tr>\n",
              "      <th>2</th>\n",
              "      <td>3</td>\n",
              "      <td>Grumpier Old Men (1995)</td>\n",
              "      <td>Comedy|Romance</td>\n",
              "    </tr>\n",
              "    <tr>\n",
              "      <th>3</th>\n",
              "      <td>4</td>\n",
              "      <td>Waiting to Exhale (1995)</td>\n",
              "      <td>Comedy|Drama</td>\n",
              "    </tr>\n",
              "    <tr>\n",
              "      <th>4</th>\n",
              "      <td>5</td>\n",
              "      <td>Father of the Bride Part II (1995)</td>\n",
              "      <td>Comedy</td>\n",
              "    </tr>\n",
              "  </tbody>\n",
              "</table>\n",
              "</div>"
            ],
            "text/plain": [
              "   MovieID                               Title                        Genres\n",
              "0        1                    Toy Story (1995)   Animation|Children's|Comedy\n",
              "1        2                      Jumanji (1995)  Adventure|Children's|Fantasy\n",
              "2        3             Grumpier Old Men (1995)                Comedy|Romance\n",
              "3        4            Waiting to Exhale (1995)                  Comedy|Drama\n",
              "4        5  Father of the Bride Part II (1995)                        Comedy"
            ]
          },
          "metadata": {
            "tags": []
          },
          "execution_count": 43
        }
      ]
    },
    {
      "cell_type": "code",
      "metadata": {
        "colab": {
          "base_uri": "https://localhost:8080/",
          "height": 203
        },
        "id": "X7wrcMzQooJU",
        "outputId": "61cbbcc5-294f-4567-8978-68c5db3fc820"
      },
      "source": [
        "#评分数据\n",
        "ratings_title = ['UserID','MovieID', 'Rating', 'timestamps']\n",
        "ratings = pd.read_csv('./ratings.dat', sep='::', header=None, names=ratings_title, engine = 'python')\n",
        "ratings.head()"
      ],
      "execution_count": null,
      "outputs": [
        {
          "output_type": "execute_result",
          "data": {
            "text/html": [
              "<div>\n",
              "<style scoped>\n",
              "    .dataframe tbody tr th:only-of-type {\n",
              "        vertical-align: middle;\n",
              "    }\n",
              "\n",
              "    .dataframe tbody tr th {\n",
              "        vertical-align: top;\n",
              "    }\n",
              "\n",
              "    .dataframe thead th {\n",
              "        text-align: right;\n",
              "    }\n",
              "</style>\n",
              "<table border=\"1\" class=\"dataframe\">\n",
              "  <thead>\n",
              "    <tr style=\"text-align: right;\">\n",
              "      <th></th>\n",
              "      <th>UserID</th>\n",
              "      <th>MovieID</th>\n",
              "      <th>Rating</th>\n",
              "      <th>timestamps</th>\n",
              "    </tr>\n",
              "  </thead>\n",
              "  <tbody>\n",
              "    <tr>\n",
              "      <th>0</th>\n",
              "      <td>1</td>\n",
              "      <td>1193</td>\n",
              "      <td>5</td>\n",
              "      <td>978300760</td>\n",
              "    </tr>\n",
              "    <tr>\n",
              "      <th>1</th>\n",
              "      <td>1</td>\n",
              "      <td>661</td>\n",
              "      <td>3</td>\n",
              "      <td>978302109</td>\n",
              "    </tr>\n",
              "    <tr>\n",
              "      <th>2</th>\n",
              "      <td>1</td>\n",
              "      <td>914</td>\n",
              "      <td>3</td>\n",
              "      <td>978301968</td>\n",
              "    </tr>\n",
              "    <tr>\n",
              "      <th>3</th>\n",
              "      <td>1</td>\n",
              "      <td>3408</td>\n",
              "      <td>4</td>\n",
              "      <td>978300275</td>\n",
              "    </tr>\n",
              "    <tr>\n",
              "      <th>4</th>\n",
              "      <td>1</td>\n",
              "      <td>2355</td>\n",
              "      <td>5</td>\n",
              "      <td>978824291</td>\n",
              "    </tr>\n",
              "  </tbody>\n",
              "</table>\n",
              "</div>"
            ],
            "text/plain": [
              "   UserID  MovieID  Rating  timestamps\n",
              "0       1     1193       5   978300760\n",
              "1       1      661       3   978302109\n",
              "2       1      914       3   978301968\n",
              "3       1     3408       4   978300275\n",
              "4       1     2355       5   978824291"
            ]
          },
          "metadata": {
            "tags": []
          },
          "execution_count": 35
        }
      ]
    },
    {
      "cell_type": "markdown",
      "metadata": {
        "id": "5QvfhpFNo2Ss"
      },
      "source": [
        "**处理数据**\n",
        "\n",
        "\n",
        "*   userID movieId occuption不变\n",
        "*   性别 0,1 \n",
        "\n",
        "*   年龄 0-6\n",
        "*   类别;是分类字段，要转成数字。首先将Genres中的类别转成字符串到数字的字典，然后再将每个电影的Genres字段转成数字列表，因为有些电影是多个Genres的组合。\n",
        "\n",
        "\n",
        "*   Title字段：处理方式跟Genres字段一样，首先创建文本到数字的字典，然后将Title中的描述转成数字的列表。另外Title中的年份也需要去掉\n",
        "*   Genres和Title字段需要将长度统一，这样在神经网络中方便处理。空白部分用‘< PAD >’对应的数字填充。\n",
        "\n",
        "\n",
        "\n",
        "\n",
        "\n"
      ]
    },
    {
      "cell_type": "code",
      "metadata": {
        "id": "Qlo4z-bAoyHc"
      },
      "source": [
        "#数据预处理\n",
        "\n",
        "def load_data():\n",
        "  #修改user数据集\n",
        "  users_title = ['UserID', 'Gender', 'Age', 'JobID', 'Zip-code']\n",
        "  users = pd.read_csv('./users.dat',sep='::', header=None, names=users_title, engine = 'python')\n",
        "  users = users.filter(regex='UserID|Gender|Age|JobID')\n",
        "  users_orig = users.values\n",
        "  users['Gender'] = users['Gender'].map({'F':0, 'M':1})#性别映射\n",
        "\n",
        "  age_map = {val:ii for ii, val in enumerate(set(users['Age']))}\n",
        "  users['Age'] = users['Age'].map(age_map)#年龄映射为0-6\n",
        "  #修改movie数据集\n",
        "  movies_title = ['MovieID', 'Title', 'Genres']\n",
        "  movies = pd.read_csv('./movies.dat', sep='::', header=None, names=movies_title, engine = 'python')\n",
        "  movies_orig = movies.values\n",
        "\n",
        "  #去掉标题中的年份\n",
        "  pattern = re.compile(r'^(.*)\\((\\d+)\\)$')\n",
        "  title_map = {val:pattern.match(val).group(1) for ii,val in enumerate(set(movies['Title']))}\n",
        "  movies['Title'] = movies['Title'].map(title_map)\n",
        "\n",
        "  #电影类型转换为数字字典\n",
        "  genres_set = set()\n",
        "  for val in movies['Genres'].str.split('|'):\n",
        "    genres_set.update(val)\n",
        "  genres_set.add('<PAD>')\n",
        "\n",
        "  genres2int = {val:ii for ii, val in enumerate(genres_set)} #每种类型到一个数字的映射\n",
        "  #eg: a|b|c:1|2|3这种类型的一个映射\n",
        "  genres_map = {val:[genres2int[row] for row in val.split('|')] for ii,val in enumerate(set(movies['Genres']))} \n",
        "  #将类型补齐\n",
        "  for key in genres_map:\n",
        "    for cnt in range(max(genres2int.values())-len(genres_map[key])):\n",
        "      genres_map[key].insert(len(genres_map[key])+cnt,genres2int['<PAD>'])\n",
        "  movies['Genres'] = movies['Genres'].map(genres_map)\n",
        "  movies.head(10)\n",
        "\n",
        "  #电影Title转数字字典\n",
        "  title_set = set()#所有电影名称涉及到的单词\n",
        "  for val in movies['Title'].str.split():\n",
        "    title_set.update(val)\n",
        "  title_set.add('<PAD>')\n",
        "\n",
        "  title_count = 15\n",
        "  title2int = {val:ii for ii, val in enumerate(title_set)}#每个单词映射成一个数字\n",
        "  title_map = {val:[title2int[row] for row in val.split()] for ii,val in enumerate(set(movies['Title']))}\n",
        "  for key in title_map:\n",
        "    for cnt in range(title_count - len(title_map[key])):\n",
        "      title_map[key].insert(len(title_map[key]) + cnt,title2int['<PAD>'])\n",
        "    \n",
        "  movies['Title'] = movies['Title'].map(title_map)\n",
        "  movies.head(5)\n",
        "\n",
        "  #读取评分数据集\n",
        "  ratings_title = ['UserID','MovieID', 'ratings', 'timestamps']\n",
        "  ratings = pd.read_csv('./ratings.dat', sep='::', header=None, names=ratings_title, engine = 'python')\n",
        "  ratings = ratings.filter(regex='UserID|MovieID|ratings')#不要时间戳\n",
        "\n",
        "  #合并三个表\n",
        "  data = pd.merge(pd.merge(ratings, users), movies)#1000209 rows × 8 columns\n",
        "  #分成两张表\n",
        "  target_fields = ['ratings']\n",
        "\n",
        "  features_pd,targets_pd = data.drop(target_fields,axis=1),data[target_fields]\n",
        "  features = features_pd.values #将dataframe转变为array\n",
        "  targets_values = targets_pd.values\n",
        "\n",
        "  return title_count, title_set, genres2int, features, targets_values, ratings, users, movies, data, movies_orig, users_orig\n",
        "\n",
        "    "
      ],
      "execution_count": null,
      "outputs": []
    },
    {
      "cell_type": "markdown",
      "metadata": {
        "id": "TZbf4uicMTDK"
      },
      "source": [
        "\n",
        "\n",
        "*   title_count:title字段的长度（15）\n",
        "\n",
        "*   title_set：title文本的集合\n",
        "\n",
        "*   genres2int：电影类型转数字的字典\n",
        "\n",
        "*   features：是输入X\n",
        "*   ratings：评分数据集的Pandas对象\n",
        "\n",
        "\n",
        "*   movies_orig：没有做数据处理的原始电影数据\n",
        "\n",
        "\n",
        "*   users_orig：没有做数据处理的原始用户数据\n",
        "\n",
        "\n"
      ]
    },
    {
      "cell_type": "code",
      "metadata": {
        "id": "xsFFMB9yI6HI"
      },
      "source": [
        "title_count, title_set, genres2int, features, targets_values, ratings, users, movies, data, movies_orig, users_orig = load_data()\n",
        "\n",
        "pickle.dump((title_count, title_set, genres2int, features, targets_values, ratings, users, movies, data, movies_orig, users_orig), open('preprocess.p', 'wb'))"
      ],
      "execution_count": null,
      "outputs": []
    },
    {
      "cell_type": "code",
      "metadata": {
        "colab": {
          "base_uri": "https://localhost:8080/",
          "height": 132
        },
        "id": "aajMPrEAPHFC",
        "outputId": "b0a44f49-b89e-4717-d9ad-5e3d8fd12eec"
      },
      "source": [
        "#辅助函数\n",
        "def save_params(params):\n",
        "  '''\n",
        "  save params to filr\n",
        "  '''\n",
        "  pickle.dump(params,open('params.p','wb'))\n",
        "def load_params():\n",
        "    \"\"\"\n",
        "    Load parameters from file\n",
        "    \"\"\"\n",
        "  return pickle.load(open('params.p', mode='rb'))\n"
      ],
      "execution_count": null,
      "outputs": [
        {
          "output_type": "error",
          "ename": "IndentationError",
          "evalue": "ignored",
          "traceback": [
            "\u001b[0;36m  File \u001b[0;32m\"<ipython-input-63-0cfb74049660>\"\u001b[0;36m, line \u001b[0;32m11\u001b[0m\n\u001b[0;31m    return pickle.load(open('params.p', mode='rb'))\u001b[0m\n\u001b[0m                                                   ^\u001b[0m\n\u001b[0;31mIndentationError\u001b[0m\u001b[0;31m:\u001b[0m unindent does not match any outer indentation level\n"
          ]
        }
      ]
    },
    {
      "cell_type": "code",
      "metadata": {
        "colab": {
          "base_uri": "https://localhost:8080/"
        },
        "id": "FxHFKIWeSNTk",
        "outputId": "f434f6d3-c2eb-4af4-d435-9e4d918d08fb"
      },
      "source": [
        "import numpy as np\n",
        "student = np.array([('name','S20'), ('age', 'i1'), ('marks', 'f4')]) \n",
        "student.take(1,0)"
      ],
      "execution_count": null,
      "outputs": [
        {
          "output_type": "execute_result",
          "data": {
            "text/plain": [
              "array(['age', 'i1'], dtype='<U5')"
            ]
          },
          "metadata": {
            "tags": []
          },
          "execution_count": 7
        }
      ]
    },
    {
      "cell_type": "code",
      "metadata": {
        "id": "E2wXPJNZQDJz"
      },
      "source": [
        "#嵌入矩阵的维度\n",
        "embed_dim = 32\n",
        "#用户ID个数\n",
        "uid_max = max(features.take(0,1)) + 1 # 6040+1\n",
        "#性别个数\n",
        "gender_max = max(features.take(2,1)) + 1 # 1 + 1 = 2\n",
        "#年龄类别个数\n",
        "age_max = max(features.take(3,1)) + 1 # 6 + 1 = 7\n",
        "#职业个数\n",
        "job_max = max(features.take(4,1)) + 1# 20 + 1 = 21\n",
        "\n",
        "#电影ID个数\n",
        "movie_id_max = max(features.take(1,1)) + 1 # 3952\n",
        "#电影类型个数\n",
        "movie_categories_max = max(genres2int.values()) + 1 # 18 + 1 = 19\n",
        "#电影名单词个数\n",
        "movie_title_max = len(title_set) # 5216\n",
        "#电影名长度\n",
        "sentences_size = title_count # = 15\n",
        "\n",
        "#对电影类型嵌入向量做加和操作的标志\n",
        "combiner = \"sum\"\n",
        "#文本卷积滑动窗口，分别滑动2, 3, 4, 5个单词\n",
        "window_sizes = {2, 3, 4, 5}\n",
        "#文本卷积核数量\n",
        "filter_num = 8\n",
        "\n",
        "#电影ID转下标的字典，数据集中电影ID跟下标不一致，比如第5行的数据电影ID不一定是5\n",
        "movieid2idx = {val[0]:i for i, val in enumerate(movies.values)}\n",
        "movieid2idx"
      ],
      "execution_count": null,
      "outputs": []
    },
    {
      "cell_type": "code",
      "metadata": {
        "id": "BR2X9SxJISzC"
      },
      "source": [
        "#超参数设置\n",
        "num_epochs= 5\n",
        "bach_size =256\n",
        "dropout_keep = 0.5\n",
        "learning_rate = 0.0001\n",
        "show_every_n_batches = 20\n",
        "\n",
        "save_dir = './'"
      ],
      "execution_count": null,
      "outputs": []
    },
    {
      "cell_type": "code",
      "metadata": {
        "colab": {
          "base_uri": "https://localhost:8080/"
        },
        "id": "h4OMV4hCIykJ",
        "outputId": "072c6577-f7b6-4934-c01d-0c1e3c14cd0c"
      },
      "source": [
        "# #定义输入的占位符\n",
        "# def get_inputs():\n",
        "  \n",
        "uid = tf.keras.layers.Input(shape=(1,), dtype='int32', name='uid')  \n",
        "user_gender = tf.keras.layers.Input(shape=(1,), dtype='int32', name='user_gender')  \n",
        "user_age = tf.keras.layers.Input(shape=(1,), dtype='int32', name='user_age') \n",
        "user_job = tf.keras.layers.Input(shape=(1,), dtype='int32', name='user_job')\n",
        "\n",
        "movie_id = tf.keras.layers.Input(shape=(1,), dtype='int32', name='movie_id') \n",
        "movie_categories = tf.keras.layers.Input(shape=(18,), dtype='int32', name='movie_categories') \n",
        "movie_titles = tf.keras.layers.Input(shape=(15,), dtype='int32', name='movie_titles') \n",
        "uid,user_gender,user_age,user_job,movie_id,movie_categories,movie_titles"
      ],
      "execution_count": null,
      "outputs": [
        {
          "output_type": "execute_result",
          "data": {
            "text/plain": [
              "(<KerasTensor: shape=(None, 1) dtype=int32 (created by layer 'uid')>,\n",
              " <KerasTensor: shape=(None, 1) dtype=int32 (created by layer 'user_gender')>,\n",
              " <KerasTensor: shape=(None, 1) dtype=int32 (created by layer 'user_age')>,\n",
              " <KerasTensor: shape=(None, 1) dtype=int32 (created by layer 'user_job')>,\n",
              " <KerasTensor: shape=(None, 1) dtype=int32 (created by layer 'movie_id')>,\n",
              " <KerasTensor: shape=(None, 18) dtype=int32 (created by layer 'movie_categories')>,\n",
              " <KerasTensor: shape=(None, 15) dtype=int32 (created by layer 'movie_titles')>)"
            ]
          },
          "metadata": {
            "tags": []
          },
          "execution_count": 30
        }
      ]
    },
    {
      "cell_type": "markdown",
      "metadata": {
        "id": "2bd86g2fOVMi"
      },
      "source": [
        "keras.layers.Embedding(input_dim,output_dim,input_length)\n",
        "\n",
        "\n",
        "*   input_dim:词汇表的维度（有多少个不同词汇）\n",
        "*   output_dim:嵌入词空间的维度（每个词嵌入为多少维度）\n",
        "\n",
        "\n",
        "*   input_length:输入语句的长度（每一个词汇多少维）\n",
        "\n",
        "\n"
      ]
    },
    {
      "cell_type": "code",
      "metadata": {
        "colab": {
          "base_uri": "https://localhost:8080/"
        },
        "id": "QE792AqWOHA0",
        "outputId": "a4182400-9f2a-4510-d0b9-17da3821a1e0"
      },
      "source": [
        "#test  embedding\n",
        "from tensorflow import keras\n",
        "import numpy as np\n",
        "\n",
        "data = np.array([[0,0,0],[1,1,1]])\n",
        "emb = keras.layers.Embedding(input_dim=2, output_dim=3, input_length=3) # 只有0,1所以input_dime是2\n",
        "emb(data)\n"
      ],
      "execution_count": null,
      "outputs": [
        {
          "output_type": "execute_result",
          "data": {
            "text/plain": [
              "<tf.Tensor: shape=(2, 3, 3), dtype=float32, numpy=\n",
              "array([[[ 1.0907508e-02,  9.1784373e-03, -2.6960148e-02],\n",
              "        [ 1.0907508e-02,  9.1784373e-03, -2.6960148e-02],\n",
              "        [ 1.0907508e-02,  9.1784373e-03, -2.6960148e-02]],\n",
              "\n",
              "       [[ 2.1460298e-02,  3.7681412e-02,  4.0877610e-05],\n",
              "        [ 2.1460298e-02,  3.7681412e-02,  4.0877610e-05],\n",
              "        [ 2.1460298e-02,  3.7681412e-02,  4.0877610e-05]]], dtype=float32)>"
            ]
          },
          "metadata": {
            "tags": []
          },
          "execution_count": 11
        }
      ]
    },
    {
      "cell_type": "code",
      "metadata": {
        "colab": {
          "base_uri": "https://localhost:8080/",
          "height": 233
        },
        "id": "B8KrsOODPn8T",
        "outputId": "97d74e88-5827-4845-80ee-f36d9a97a84e"
      },
      "source": [
        "#定义用户的嵌入矩阵\n",
        "#def get_user_embedding(uid,user_gender,user_age,user_job):\n",
        "uid_embed_layer = tf.keras.layers.Embedding(uid_max, embed_dim,input_length=1,name='uid_embed_layer')\n",
        "gender_embed_layer = tf.keras.layers.Embedding(gender_max, embed_dim//2,input_length=1,name='gender_embed_layer')\n",
        "age_embed_layer = tf.keras.layers.Embedding(age_max,embed_dim//2,input_length=1, name='age_embed_layer')\n",
        "job_embed_layer = tf.keras.layers.Embedding(job_max,embed_dim//2,input_length=1,name = 'job_embed_layer')"
      ],
      "execution_count": null,
      "outputs": [
        {
          "output_type": "error",
          "ename": "AttributeError",
          "evalue": "ignored",
          "traceback": [
            "\u001b[0;31m---------------------------------------------------------------------------\u001b[0m",
            "\u001b[0;31mAttributeError\u001b[0m                            Traceback (most recent call last)",
            "\u001b[0;32m<ipython-input-35-53d99eae4ff5>\u001b[0m in \u001b[0;36m<module>\u001b[0;34m()\u001b[0m\n\u001b[1;32m      5\u001b[0m \u001b[0mage_embed_layer\u001b[0m \u001b[0;34m=\u001b[0m \u001b[0mtf\u001b[0m\u001b[0;34m.\u001b[0m\u001b[0mkeras\u001b[0m\u001b[0;34m.\u001b[0m\u001b[0mlayers\u001b[0m\u001b[0;34m.\u001b[0m\u001b[0mEmbedding\u001b[0m\u001b[0;34m(\u001b[0m\u001b[0mage_max\u001b[0m\u001b[0;34m,\u001b[0m\u001b[0membed_dim\u001b[0m\u001b[0;34m//\u001b[0m\u001b[0;36m2\u001b[0m\u001b[0;34m,\u001b[0m\u001b[0minput_length\u001b[0m\u001b[0;34m=\u001b[0m\u001b[0;36m1\u001b[0m\u001b[0;34m,\u001b[0m \u001b[0mname\u001b[0m\u001b[0;34m=\u001b[0m\u001b[0;34m'age_embed_layer'\u001b[0m\u001b[0;34m)\u001b[0m\u001b[0;34m\u001b[0m\u001b[0;34m\u001b[0m\u001b[0m\n\u001b[1;32m      6\u001b[0m \u001b[0mjob_embed_layer\u001b[0m \u001b[0;34m=\u001b[0m \u001b[0mtf\u001b[0m\u001b[0;34m.\u001b[0m\u001b[0mkeras\u001b[0m\u001b[0;34m.\u001b[0m\u001b[0mlayers\u001b[0m\u001b[0;34m.\u001b[0m\u001b[0mEmbedding\u001b[0m\u001b[0;34m(\u001b[0m\u001b[0mjob_max\u001b[0m\u001b[0;34m,\u001b[0m\u001b[0membed_dim\u001b[0m\u001b[0;34m//\u001b[0m\u001b[0;36m2\u001b[0m\u001b[0;34m,\u001b[0m\u001b[0minput_length\u001b[0m\u001b[0;34m=\u001b[0m\u001b[0;36m1\u001b[0m\u001b[0;34m,\u001b[0m\u001b[0mname\u001b[0m \u001b[0;34m=\u001b[0m \u001b[0;34m'job_embed_layer'\u001b[0m\u001b[0;34m)\u001b[0m\u001b[0;34m\u001b[0m\u001b[0;34m\u001b[0m\u001b[0m\n\u001b[0;32m----> 7\u001b[0;31m \u001b[0muid_embed_layer\u001b[0m\u001b[0;34m.\u001b[0m\u001b[0mshape\u001b[0m\u001b[0;34m(\u001b[0m\u001b[0;34m)\u001b[0m\u001b[0;34m\u001b[0m\u001b[0;34m\u001b[0m\u001b[0m\n\u001b[0m",
            "\u001b[0;31mAttributeError\u001b[0m: 'Embedding' object has no attribute 'shape'"
          ]
        }
      ]
    },
    {
      "cell_type": "markdown",
      "metadata": {
        "id": "p0xu30O2aylQ"
      },
      "source": [
        "\n",
        "```\n",
        "tf.keras.layers.Dense\n",
        "(\n",
        "    units,\n",
        "    activation=None,\n",
        "    use_bias=True,\n",
        "    kernel_initializer='glorot_uniform',\n",
        "    bias_initializer='zeros',\n",
        "    kernel_regularizer=None,\n",
        "    bias_regularizer=None,\n",
        "    activity_regularizer=None,\n",
        "    kernel_constraint=None,\n",
        "    bias_constraint=None,\n",
        "    **kwargs\n",
        ")\n",
        "```\n",
        "tf.keras.layers.Dense相当于在全连接层中添加一个层\n",
        "\n",
        "units:输出维度的大小\n",
        "\n"
      ]
    },
    {
      "cell_type": "code",
      "metadata": {
        "id": "K2WnRKHzjaEb"
      },
      "source": [
        ""
      ],
      "execution_count": null,
      "outputs": []
    },
    {
      "cell_type": "code",
      "metadata": {
        "colab": {
          "base_uri": "https://localhost:8080/",
          "height": 475
        },
        "id": "93oRMoyjR6X9",
        "outputId": "8078445d-e134-482d-c05e-e7e0b62108f4"
      },
      "source": [
        "def get_user_feature_layer(uid_embed_layer, gender_embed_layer, age_embed_layer, job_embed_layer):\n",
        "    #第一层全连接\n",
        "  uid_fc_layer = tf.keras.layers.Dense(embed_dim, name=\"uid_fc_layer\", activation='relu')(uid_embed_layer)\n",
        "  gender_fc_layer = tf.keras.layers.Dense(embed_dim, name=\"gender_fc_layer\", activation='relu')(gender_embed_layer)\n",
        "  age_fc_layer = tf.keras.layers.Dense(embed_dim, name=\"age_fc_layer\", activation='relu')(age_embed_layer)\n",
        "  job_fc_layer = tf.keras.layers.Dense(embed_dim, name=\"job_fc_layer\", activation='relu')(job_embed_layer)\n",
        "\n",
        "    #第二层全连接\n",
        "  user_combine_layer = tf.keras.layers.concatenate([uid_fc_layer, gender_fc_layer, age_fc_layer, job_fc_layer], 2)  #(?, 1, 128)\n",
        "  user_combine_layer = tf.keras.layers.Dense(200, activation='tanh')(user_combine_layer)  #(?, 1, 200)\n",
        "\n",
        "  user_combine_layer_flat = tf.keras.layers.Reshape([200], name=\"user_combine_layer_flat\")(user_combine_layer)##这一步不太明白\n",
        "  return user_combine_layer, user_combine_layer_flat\n",
        "\n",
        "\n"
      ],
      "execution_count": null,
      "outputs": [
        {
          "output_type": "error",
          "ename": "TypeError",
          "evalue": "ignored",
          "traceback": [
            "\u001b[0;31m---------------------------------------------------------------------------\u001b[0m",
            "\u001b[0;31mTypeError\u001b[0m                                 Traceback (most recent call last)",
            "\u001b[0;32m<ipython-input-34-c956c552d531>\u001b[0m in \u001b[0;36m<module>\u001b[0;34m()\u001b[0m\n\u001b[1;32m      4\u001b[0m   \u001b[0;31m#第一层全连接\u001b[0m\u001b[0;34m\u001b[0m\u001b[0;34m\u001b[0m\u001b[0;34m\u001b[0m\u001b[0m\n\u001b[1;32m      5\u001b[0m   \u001b[0;31m#uid_fc_layer = tf.keras.layers.Dense(embed_dim.name='uid_fc_layer',activation='relu')\u001b[0m\u001b[0;34m\u001b[0m\u001b[0;34m\u001b[0m\u001b[0;34m\u001b[0m\u001b[0m\n\u001b[0;32m----> 6\u001b[0;31m \u001b[0muid_fc_layer\u001b[0m \u001b[0;34m=\u001b[0m \u001b[0mtf\u001b[0m\u001b[0;34m.\u001b[0m\u001b[0mkeras\u001b[0m\u001b[0;34m.\u001b[0m\u001b[0mlayers\u001b[0m\u001b[0;34m.\u001b[0m\u001b[0mDense\u001b[0m\u001b[0;34m(\u001b[0m\u001b[0membed_dim\u001b[0m\u001b[0;34m,\u001b[0m \u001b[0mname\u001b[0m\u001b[0;34m=\u001b[0m\u001b[0;34m\"uid_fc_layer\"\u001b[0m\u001b[0;34m,\u001b[0m \u001b[0mactivation\u001b[0m\u001b[0;34m=\u001b[0m\u001b[0;34m'relu'\u001b[0m\u001b[0;34m)\u001b[0m\u001b[0;34m(\u001b[0m\u001b[0muid_embed_layer\u001b[0m\u001b[0;34m)\u001b[0m\u001b[0;34m\u001b[0m\u001b[0;34m\u001b[0m\u001b[0m\n\u001b[0m\u001b[1;32m      7\u001b[0m \u001b[0mgender_fc_layer\u001b[0m \u001b[0;34m=\u001b[0m \u001b[0mtf\u001b[0m\u001b[0;34m.\u001b[0m\u001b[0mkeras\u001b[0m\u001b[0;34m.\u001b[0m\u001b[0mlayers\u001b[0m\u001b[0;34m.\u001b[0m\u001b[0mDense\u001b[0m\u001b[0;34m(\u001b[0m\u001b[0membed_dim\u001b[0m\u001b[0;34m,\u001b[0m \u001b[0mname\u001b[0m\u001b[0;34m=\u001b[0m\u001b[0;34m\"gender_fc_layer\"\u001b[0m\u001b[0;34m,\u001b[0m \u001b[0mactivation\u001b[0m\u001b[0;34m=\u001b[0m\u001b[0;34m'relu'\u001b[0m\u001b[0;34m)\u001b[0m\u001b[0;34m(\u001b[0m\u001b[0mgender_embed_layer\u001b[0m\u001b[0;34m)\u001b[0m\u001b[0;34m\u001b[0m\u001b[0;34m\u001b[0m\u001b[0m\n\u001b[1;32m      8\u001b[0m \u001b[0mage_fc_layer\u001b[0m \u001b[0;34m=\u001b[0m \u001b[0mtf\u001b[0m\u001b[0;34m.\u001b[0m\u001b[0mkeras\u001b[0m\u001b[0;34m.\u001b[0m\u001b[0mlayers\u001b[0m\u001b[0;34m.\u001b[0m\u001b[0mDense\u001b[0m\u001b[0;34m(\u001b[0m\u001b[0membed_dim\u001b[0m\u001b[0;34m,\u001b[0m \u001b[0mname\u001b[0m\u001b[0;34m=\u001b[0m\u001b[0;34m\"age_fc_layer\"\u001b[0m\u001b[0;34m,\u001b[0m \u001b[0mactivation\u001b[0m\u001b[0;34m=\u001b[0m\u001b[0;34m'relu'\u001b[0m\u001b[0;34m)\u001b[0m\u001b[0;34m(\u001b[0m\u001b[0mage_embed_layer\u001b[0m\u001b[0;34m)\u001b[0m\u001b[0;34m\u001b[0m\u001b[0;34m\u001b[0m\u001b[0m\n",
            "\u001b[0;32m/usr/local/lib/python3.7/dist-packages/tensorflow/python/keras/engine/base_layer.py\u001b[0m in \u001b[0;36m__call__\u001b[0;34m(self, *args, **kwargs)\u001b[0m\n\u001b[1;32m   1011\u001b[0m         training=training_mode):\n\u001b[1;32m   1012\u001b[0m \u001b[0;34m\u001b[0m\u001b[0m\n\u001b[0;32m-> 1013\u001b[0;31m       \u001b[0minput_spec\u001b[0m\u001b[0;34m.\u001b[0m\u001b[0massert_input_compatibility\u001b[0m\u001b[0;34m(\u001b[0m\u001b[0mself\u001b[0m\u001b[0;34m.\u001b[0m\u001b[0minput_spec\u001b[0m\u001b[0;34m,\u001b[0m \u001b[0minputs\u001b[0m\u001b[0;34m,\u001b[0m \u001b[0mself\u001b[0m\u001b[0;34m.\u001b[0m\u001b[0mname\u001b[0m\u001b[0;34m)\u001b[0m\u001b[0;34m\u001b[0m\u001b[0;34m\u001b[0m\u001b[0m\n\u001b[0m\u001b[1;32m   1014\u001b[0m       \u001b[0;32mif\u001b[0m \u001b[0meager\u001b[0m\u001b[0;34m:\u001b[0m\u001b[0;34m\u001b[0m\u001b[0;34m\u001b[0m\u001b[0m\n\u001b[1;32m   1015\u001b[0m         \u001b[0mcall_fn\u001b[0m \u001b[0;34m=\u001b[0m \u001b[0mself\u001b[0m\u001b[0;34m.\u001b[0m\u001b[0mcall\u001b[0m\u001b[0;34m\u001b[0m\u001b[0;34m\u001b[0m\u001b[0m\n",
            "\u001b[0;32m/usr/local/lib/python3.7/dist-packages/tensorflow/python/keras/engine/input_spec.py\u001b[0m in \u001b[0;36massert_input_compatibility\u001b[0;34m(input_spec, inputs, layer_name)\u001b[0m\n\u001b[1;32m    195\u001b[0m     \u001b[0;31m# have a `shape` attribute.\u001b[0m\u001b[0;34m\u001b[0m\u001b[0;34m\u001b[0m\u001b[0;34m\u001b[0m\u001b[0m\n\u001b[1;32m    196\u001b[0m     \u001b[0;32mif\u001b[0m \u001b[0;32mnot\u001b[0m \u001b[0mhasattr\u001b[0m\u001b[0;34m(\u001b[0m\u001b[0mx\u001b[0m\u001b[0;34m,\u001b[0m \u001b[0;34m'shape'\u001b[0m\u001b[0;34m)\u001b[0m\u001b[0;34m:\u001b[0m\u001b[0;34m\u001b[0m\u001b[0;34m\u001b[0m\u001b[0m\n\u001b[0;32m--> 197\u001b[0;31m       \u001b[0;32mraise\u001b[0m \u001b[0mTypeError\u001b[0m\u001b[0;34m(\u001b[0m\u001b[0;34m'Inputs to a layer should be tensors. Got: %s'\u001b[0m \u001b[0;34m%\u001b[0m \u001b[0;34m(\u001b[0m\u001b[0mx\u001b[0m\u001b[0;34m,\u001b[0m\u001b[0;34m)\u001b[0m\u001b[0;34m)\u001b[0m\u001b[0;34m\u001b[0m\u001b[0;34m\u001b[0m\u001b[0m\n\u001b[0m\u001b[1;32m    198\u001b[0m \u001b[0;34m\u001b[0m\u001b[0m\n\u001b[1;32m    199\u001b[0m   \u001b[0;32mif\u001b[0m \u001b[0mlen\u001b[0m\u001b[0;34m(\u001b[0m\u001b[0minputs\u001b[0m\u001b[0;34m)\u001b[0m \u001b[0;34m!=\u001b[0m \u001b[0mlen\u001b[0m\u001b[0;34m(\u001b[0m\u001b[0minput_spec\u001b[0m\u001b[0;34m)\u001b[0m\u001b[0;34m:\u001b[0m\u001b[0;34m\u001b[0m\u001b[0;34m\u001b[0m\u001b[0m\n",
            "\u001b[0;31mTypeError\u001b[0m: Inputs to a layer should be tensors. Got: <tensorflow.python.keras.layers.embeddings.Embedding object at 0x7f1447cd3bd0>"
          ]
        }
      ]
    },
    {
      "cell_type": "code",
      "metadata": {
        "id": "uGbQBecHnNZz"
      },
      "source": [
        "#定义Movie Id的嵌入矩阵\n",
        "def get_movie_id_embed_layer(movie_id):\n",
        "  get_movie_id_embed_layer = tf.keras.layers.Embedding(movie_id_max,embed_dim,input_length=1,name='movie_id_embed_layer')\n",
        "  return movie_id_embed_layer"
      ],
      "execution_count": null,
      "outputs": []
    },
    {
      "cell_type": "code",
      "metadata": {
        "id": "-68EPnfhpJjU"
      },
      "source": [
        "#合并电影类型的多个嵌入向量\n",
        "def get_movie_categories_embed_layers(movie_categories):\n",
        "  movie_categories_embed_layer = tf.keras.layers.Embedding(movie_categories_max,embed_dim,input_length=18,name='movie_categories_embed_layer')\n",
        "  movie_categories_embed_layer = tf.kears.layers.Lambda(lambda layer:tf.reduce_sum(layer,axis=1,keepdims=True))#每一行求一个和\n",
        "  return movie_categories_embed_layer\n"
      ],
      "execution_count": null,
      "outputs": []
    },
    {
      "cell_type": "code",
      "metadata": {
        "id": "OzpfwH5e8o2b"
      },
      "source": [
        "#title 的文本卷积网络实现\n",
        "movie_title_embed_layer = tf.kera"
      ],
      "execution_count": null,
      "outputs": []
    }
  ]
}